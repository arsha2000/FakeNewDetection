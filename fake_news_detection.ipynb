{
 "cells": [
  {
   "cell_type": "code",
   "execution_count": 58,
   "metadata": {},
   "outputs": [],
   "source": [
    "import numpy as np\n",
    "import pandas as pd\n",
    "import matplotlib.pyplot as plt\n",
    "from sklearn.model_selection import train_test_split\n",
    "from sklearn.feature_extraction.text import TfidfVectorizer\n",
    "from sklearn.linear_model import PassiveAggressiveClassifier\n",
    "from sklearn.metrics import accuracy_score, confusion_matrix\n"
   ]
  },
  {
   "cell_type": "code",
   "execution_count": null,
   "metadata": {},
   "outputs": [
    {
     "data": {
      "text/html": [
       "<div>\n",
       "<style scoped>\n",
       "    .dataframe tbody tr th:only-of-type {\n",
       "        vertical-align: middle;\n",
       "    }\n",
       "\n",
       "    .dataframe tbody tr th {\n",
       "        vertical-align: top;\n",
       "    }\n",
       "\n",
       "    .dataframe thead th {\n",
       "        text-align: right;\n",
       "    }\n",
       "</style>\n",
       "<table border=\"1\" class=\"dataframe\">\n",
       "  <thead>\n",
       "    <tr style=\"text-align: right;\">\n",
       "      <th></th>\n",
       "      <th>id</th>\n",
       "      <th>title</th>\n",
       "      <th>text</th>\n",
       "      <th>label</th>\n",
       "    </tr>\n",
       "  </thead>\n",
       "  <tbody>\n",
       "    <tr>\n",
       "      <th>0</th>\n",
       "      <td>8476</td>\n",
       "      <td>You Can Smell Hillary’s Fear</td>\n",
       "      <td>Daniel Greenfield, a Shillman Journalism Fello...</td>\n",
       "      <td>FAKE</td>\n",
       "    </tr>\n",
       "    <tr>\n",
       "      <th>1</th>\n",
       "      <td>10294</td>\n",
       "      <td>Watch The Exact Moment Paul Ryan Committed Pol...</td>\n",
       "      <td>Google Pinterest Digg Linkedin Reddit Stumbleu...</td>\n",
       "      <td>FAKE</td>\n",
       "    </tr>\n",
       "    <tr>\n",
       "      <th>2</th>\n",
       "      <td>3608</td>\n",
       "      <td>Kerry to go to Paris in gesture of sympathy</td>\n",
       "      <td>U.S. Secretary of State John F. Kerry said Mon...</td>\n",
       "      <td>REAL</td>\n",
       "    </tr>\n",
       "    <tr>\n",
       "      <th>3</th>\n",
       "      <td>10142</td>\n",
       "      <td>Bernie supporters on Twitter erupt in anger ag...</td>\n",
       "      <td>— Kaydee King (@KaydeeKing) November 9, 2016 T...</td>\n",
       "      <td>FAKE</td>\n",
       "    </tr>\n",
       "    <tr>\n",
       "      <th>4</th>\n",
       "      <td>875</td>\n",
       "      <td>The Battle of New York: Why This Primary Matters</td>\n",
       "      <td>It's primary day in New York and front-runners...</td>\n",
       "      <td>REAL</td>\n",
       "    </tr>\n",
       "  </tbody>\n",
       "</table>\n",
       "</div>"
      ],
      "text/plain": [
       "      id                                              title  \\\n",
       "0   8476                       You Can Smell Hillary’s Fear   \n",
       "1  10294  Watch The Exact Moment Paul Ryan Committed Pol...   \n",
       "2   3608        Kerry to go to Paris in gesture of sympathy   \n",
       "3  10142  Bernie supporters on Twitter erupt in anger ag...   \n",
       "4    875   The Battle of New York: Why This Primary Matters   \n",
       "\n",
       "                                                text label  \n",
       "0  Daniel Greenfield, a Shillman Journalism Fello...  FAKE  \n",
       "1  Google Pinterest Digg Linkedin Reddit Stumbleu...  FAKE  \n",
       "2  U.S. Secretary of State John F. Kerry said Mon...  REAL  \n",
       "3  — Kaydee King (@KaydeeKing) November 9, 2016 T...  FAKE  \n",
       "4  It's primary day in New York and front-runners...  REAL  "
      ]
     },
     "execution_count": 22,
     "metadata": {},
     "output_type": "execute_result"
    }
   ],
   "source": [
    "df = pd.read_csv(\"./news.csv\")\n",
    "df = df.rename(columns={\"Unnamed: 0\": \"id\"})\n",
    "\n",
    "\n",
    "df.head()"
   ]
  },
  {
   "cell_type": "code",
   "execution_count": null,
   "metadata": {},
   "outputs": [
    {
     "data": {
      "text/plain": [
       "0    FAKE\n",
       "1    FAKE\n",
       "2    REAL\n",
       "3    FAKE\n",
       "4    REAL\n",
       "Name: label, dtype: object"
      ]
     },
     "execution_count": 23,
     "metadata": {},
     "output_type": "execute_result"
    }
   ],
   "source": [
    "labels = df.label\n",
    "labels.head()"
   ]
  },
  {
   "cell_type": "code",
   "execution_count": null,
   "metadata": {},
   "outputs": [
    {
     "name": "stdout",
     "output_type": "stream",
     "text": [
      "Train Dataset Size: 5068\n",
      "Test Dataset Size: 1267\n"
     ]
    }
   ],
   "source": [
    "x_train, x_test, y_train, y_test = train_test_split(df.text, labels, test_size=0.2, random_state=7)\n",
    "\n",
    "print(f\"Train Dataset Size: {x_train.shape[0]}\")\n",
    "print(f\"Test Dataset Size: {x_test.shape[0]}\")"
   ]
  },
  {
   "cell_type": "code",
   "execution_count": null,
   "metadata": {},
   "outputs": [],
   "source": [
    "tfidf_vectorizer = TfidfVectorizer(stop_words=\"english\", max_df=0.7)\n",
    "\n",
    "tfidf_train = tfidf_vectorizer.fit_transform(x_train)\n",
    "tfidf_test = tfidf_vectorizer.transform(x_test)"
   ]
  },
  {
   "cell_type": "code",
   "execution_count": null,
   "metadata": {},
   "outputs": [
    {
     "name": "stdout",
     "output_type": "stream",
     "text": [
      "Accuracy: 92.9%\n"
     ]
    }
   ],
   "source": [
    "pac = PassiveAggressiveClassifier(max_iter=50)\n",
    "pac.fit(tfidf_train, y_train)\n",
    "\n",
    "y_pred = pac.predict(tfidf_test)\n",
    "score = accuracy_score(y_test, y_pred)\n",
    "print(f\"Accuracy: {round(score * 100, 2)}%\")"
   ]
  },
  {
   "cell_type": "markdown",
   "metadata": {},
   "source": [
    "### Testing out on an Atlantic Article"
   ]
  },
  {
   "cell_type": "code",
   "execution_count": null,
   "metadata": {},
   "outputs": [
    {
     "data": {
      "text/plain": [
       "<1x61651 sparse matrix of type '<class 'numpy.float64'>'\n",
       "\twith 410 stored elements in Compressed Sparse Row format>"
      ]
     },
     "execution_count": 34,
     "metadata": {},
     "output_type": "execute_result"
    }
   ],
   "source": [
    "test = \"\"\"The federal government is running out of funds to fight the coronavirus pandemic, and the Biden administration has been blunt about the potential consequences if it does not get more money soon. “We need to get this funding,” the White House press secretary, Jen Psaki, told reporters earlier this month. “Otherwise people are going to die.”\n",
    "\n",
    "Only Congress—the constitutional keeper of the federal purse—can act to appropriate new money to maintain the flow of tests and life-saving treatments, and to foot the bill for people who lack insurance. The House and Senate have shown no such urgency, having left for a two-week Easter recess without agreeing to a new COVID funding bill. In the meantime, the administration says its hands are tied, no matter how dire the outcome.\n",
    "\n",
    "Former President Donald Trump famously did not share the same deference to the separation of powers. When Congress rejected his repeated demands to fund his prized southern-border wall, Trump declared a national emergency, took money from military construction projects, and ordered work on the barrier to begin. At the time, the move was perhaps Trump’s most brazen violation of established norms and, arguably, the law—the constitutional equivalent of stealing a car parked in front of a police station.\n",
    "\n",
    "The Democratic-controlled House sued Trump, but the Supreme Court declined to block his transfer of funds (the Biden administration reversed course before the justices could rule on the merits of the case). Now some Democrats want Biden to emulate the Republican he defeated and raid the Pentagon for more COVID funding, Congress be damned.\n",
    "\n",
    "“We saw how Trump did it based on his priorities,” Representative Barbara Lee of California told me. “If they can do that, don’t tell me they can’t find another $15 billion and more for saving lives in America and around the world.” Lee, a former chair of the Congressional Progressive Caucus, is no rank-and-file member. The 12th-term Democrat is chair of the Appropriations subcommittee that controls funding for the State Department and foreign operations—a plum post whose occupant is usually a fierce defender of Congress’s role in authorizing federal spending. But she’s also a longtime critic of excessive military spending. (She gained national attention in 2001 as the only member of the House to vote against authorizing the use of military force before the U.S. invasion of Afghanistan.) “It would be a bold move, and I think boldness is needed now,” Lee said.\n",
    "\n",
    "Read: Republicans think they can win the COVID funding fight\n",
    "\n",
    "Members of Congress had been bickering over COVID funding for weeks before they left town. Lawmakers whittled Biden’s original request of $22.5 billion down to $15 billion, and Republicans insisted that the money come from unspent portions of earlier relief bills, as opposed to new expenditures. House Speaker Nancy Pelosi stripped the funds from a $1.5 trillion omnibus spending package after Democrats revolted over a plan to take money earmarked for state and local governments. Lawmakers then slashed the $15 billion down to $10 billion, removing money directed toward supporting global vaccination efforts. The agreement finally stalled again just before the recess after Republicans demanded votes to reinstate pandemic-related southern-border restrictions that the Biden administration recently lifted. “This fits the definition of emergency funding. The wall did not,” Representative Mark Pocan of Wisconsin, another former co-chair of the Progressive Caucus, told me. “The Republicans have made this impossible to do in the normal way.”\n",
    "\n",
    "Senator Chris Coons of Delaware, a close Biden ally who chairs the Senate subcommittee with jurisdiction over the State and foreign-operations budget, told me he expects the administration to explore whether it could “make some sort of emergency declaration” to unlock more funding for the global vaccine push. But he was skeptical that Biden, a former senator who has pooh-poohed progressive proposals for a more aggressive use of executive authority, would try to match Trump’s border-wall maneuver. “If you spent the campaign and the last year arguing that it was completely illegitimate and supporting the lawsuits challenging it,” Coons said with a chuckle, “it would then be a little challenging to turn around and say, ‘Well, we want to do exactly the same thing.’”\n",
    "\n",
    "Congress has already appropriated more than $5 trillion to the pandemic fight over the past few years, and not all of that money has been spent. But lawmakers designated the money for specific purposes, and the accounts covering such crucial items as COVID testing, vaccines, and therapeutics are empty, according to the Office of Management and Budget. Federal law only grants the Department of Health and Human Services the ability to transfer a small percentage of funds between accounts beyond what Congress explicitly authorizes,  congressional aides told me. Administration officials, speaking on the condition of anonymity to describe private deliberations, told me that they had already scoured federal statutes for wiggle room and determined that they could not legally spend more money without authorization from Congress. “We are now out of funds,” Abdullah Hasan, a spokesperson for OMB, told me, “and if Congress wants us to continue providing tests, treatments, and vaccines to the American people, it will need to provide additional resources.”\n",
    "\n",
    "Even the Trump administration, in pulling its border-wall maneuver, cited a specific statute in the Pentagon budget to argue in court that its transfer of funds was legal. The Biden administration would have to do the same, and neither Lee nor Pocan offered up a specific proposal for replenishing the COVID funds. “The laws that the Trump administration used to find money for the border wall were different than the laws that apply to public-health funding,” Matthew Lawrence, a law professor at Emory University who formerly served as a lawyer on health-care cases at the Justice Department, told me.\n",
    "\n",
    "The political and legal risks of trying an end run around Congress are also different for Biden, Lawrence said. The border wall was a long-term project, so a court order blocking its construction might only be a temporary delay. The fight against COVID, by contrast, is an immediate crisis, so even a temporary injunction could both halt funding when it’s needed most and set back Biden’s efforts to secure new money from Congress.\n",
    "\n",
    "Yet the biggest reason why Biden is unlikely to follow Trump into a constitutional fight, even under circumstances that his aides have characterized as literally life-or-death, is that as a committed institutionalist, it would be supremely out of character for him to do so. The president, for example, endorsed changes to the Senate filibuster only after months of pressure from Democrats; the failure of that effort is one reason party leaders need GOP support for more COVID funding.\n",
    "\n",
    "“You’d have to persuade me that there was zero chance that we were going to [respond] to an emergency before I’d say it was okay for a president who served in the Senate for 36 years to blow up the appropriations process,” Coons said. Still, with COVID cases rising again and Congress stalled, he didn’t entirely dismiss the possibility of Biden going it alone. “If we continue to be at an impasse in six weeks or two months,” the senator told me, “I would expect those conversations to begin.”\"\"\"\n",
    "test = tfidf_vectorizer.transform([test])\n",
    "test"
   ]
  },
  {
   "cell_type": "code",
   "execution_count": null,
   "metadata": {},
   "outputs": [
    {
     "data": {
      "text/plain": [
       "array(['REAL'], dtype='<U4')"
      ]
     },
     "execution_count": 35,
     "metadata": {},
     "output_type": "execute_result"
    }
   ],
   "source": [
    "pac.predict(test)"
   ]
  },
  {
   "cell_type": "code",
   "execution_count": 56,
   "metadata": {},
   "outputs": [
    {
     "data": {
      "text/plain": [
       "array([[586,  47],\n",
       "       [ 43, 591]])"
      ]
     },
     "execution_count": 56,
     "metadata": {},
     "output_type": "execute_result"
    }
   ],
   "source": [
    "confusion_matrix(y_pred, y_test, labels=[\"REAL\", \"FAKE\"])"
   ]
  }
 ],
 "metadata": {
  "interpreter": {
   "hash": "1f4bee7eac5d7943a404e8c54058ffb565e43a472d5451c309647d7f541e8d51"
  },
  "kernelspec": {
   "display_name": "Python 3.10.2 ('gtx')",
   "language": "python",
   "name": "python3"
  },
  "language_info": {
   "codemirror_mode": {
    "name": "ipython",
    "version": 3
   },
   "file_extension": ".py",
   "mimetype": "text/x-python",
   "name": "python",
   "nbconvert_exporter": "python",
   "pygments_lexer": "ipython3",
   "version": "3.10.2"
  },
  "orig_nbformat": 4
 },
 "nbformat": 4,
 "nbformat_minor": 2
}
